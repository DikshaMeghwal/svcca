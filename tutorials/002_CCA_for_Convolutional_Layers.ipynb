{
 "cells": [
  {
   "cell_type": "markdown",
   "metadata": {},
   "source": [
    "## CCA for Convolutional Layers"
   ]
  },
  {
   "cell_type": "markdown",
   "metadata": {},
   "source": [
    "This notebook walks through applying CCA to convolutional layers"
   ]
  },
  {
   "cell_type": "code",
   "execution_count": 1,
   "metadata": {},
   "outputs": [],
   "source": [
    "import os, sys\n",
    "from matplotlib import pyplot as plt\n",
    "%matplotlib inline\n",
    "import numpy as np\n",
    "import pickle\n",
    "import pandas\n",
    "import gzip\n",
    "\n",
    "sys.path.append(\"..\")\n",
    "import cca_core"
   ]
  },
  {
   "cell_type": "markdown",
   "metadata": {},
   "source": [
    "In the introduction tutorial, we looked at a simple way of thinking of neural network representations (neurons as activation vectors and layers as subspaces) and the applicability of CCA as way to analyze these representations.\n",
    "\n",
    "Convolutional layers have a different structure, and require a slightly different application of CCA. In the [original paper](https://arxiv.org/abs/1706.05806), we had proposed using a Discrete Fourier Transform to speed up computations for convolutional layers.\n",
    "\n",
    "Since then, we've identified methods that are even simpler to use when applying CCA to Convolutional layers. We'll work through some of these methods using a conv network for SVHN. \n",
    "\n",
    "### Convolutional Layers\n",
    "First, a quick recap on convolutional layers.\n"
   ]
  },
  {
   "attachments": {
    "conv_layer.jpeg": {
     "image/jpeg": "[encoded data removed]"
    }
   },
   "cell_type": "markdown",
   "metadata": {},
   "source": [
    "![conv_layer.jpeg](attachment:conv_layer.jpeg)"
   ]
  },
  {
   "cell_type": "markdown",
   "metadata": {},
   "source": [
    "(Picture Source: an excellent [tutorial](http://cs231n.github.io/convolutional-networks/) on conv nets.)\n",
    "\n",
    "As shown above, conv nets have a 3D structure, (height, width, num_channels). The height, width are sometimes called the _spatial_ dimensions of the layer. Parameters are shared across the spatial dimensions, so the degrees of freedom of the conv layer come from the number of channels it has. \n",
    "\n",
    "As a result, we'll want to compare the the similarity of two conv layers _**by comparing across channels**_."
   ]
  },
  {
   "cell_type": "markdown",
   "metadata": {},
   "source": [
    "### CCA for Conv Nets with SVHN\n",
    "\n",
    "SVHN consists of images that are 32 x 32 (height 32, width 32). Our architecture looks like:\n",
    "\n",
    "**conv1(3x3,32 channels)---maxpool(2x2)---conv2(3x3,64 channels)---maxpool(2x2)---batchnorm---fc(200)---fc(10)**\n",
    "\n",
    "We've stored activations over 1000 test datapoints for two models. Let's load them up!"
   ]
  },
  {
   "cell_type": "code",
   "execution_count": 4,
   "metadata": {},
   "outputs": [
    {
     "name": "stdout",
     "output_type": "stream",
     "text": [
      "(10000, 16, 16, 64) (10000, 16, 16, 64)\n"
     ]
    }
   ],
   "source": [
    "# Load up conv 2 activations from SVHN\n",
    "with gzip.open(\"./model_activations/SVHN/model_0_lay03.p\", \"rb\") as f:\n",
    "    acts1 = pickle.load(f)\n",
    "    \n",
    "with gzip.open(\"./model_activations/SVHN/model_1_lay03.p\", \"rb\") as f:\n",
    "    acts2 = pickle.load(f)\n",
    "\n",
    "print(acts1.shape, acts2.shape)"
   ]
  },
  {
   "cell_type": "markdown",
   "metadata": {},
   "source": [
    "These activations have shape: (number datapoints, height, width, num channels). The spatial dimensions (height, width) share parameters, and so to compare two conv layers, we want to be able to compare the representations learned in their channels.\n",
    "\n",
    "There are a few ways of doing this, depending on the shapes of the layers being compared."
   ]
  },
  {
   "cell_type": "markdown",
   "metadata": {},
   "source": [
    "### Comparing Conv Layers with the Same Spatial Dimensions"
   ]
  },
  {
   "cell_type": "markdown",
   "metadata": {},
   "source": [
    "If the two conv layers being compared have the same spatial dimensions, we can flatten the spatial dimensions into the number of datapoints:"
   ]
  },
  {
   "cell_type": "code",
   "execution_count": 7,
   "metadata": {},
   "outputs": [
    {
     "name": "stdout",
     "output_type": "stream",
     "text": [
      "(2560000, 64) (2560000, 64)\n"
     ]
    }
   ],
   "source": [
    "num_datapoints, h, w, channels = acts1.shape\n",
    "f_acts1 = acts1.reshape((num_datapoints*h*w, channels))\n",
    "\n",
    "num_datapoints, h, w, channels = acts2.shape\n",
    "f_acts2 = acts2.reshape((num_datapoints*h*w, channels))\n",
    "\n",
    "print(f_acts1.shape, f_acts2.shape)"
   ]
  },
  {
   "cell_type": "markdown",
   "metadata": {},
   "source": [
    "The motivation for doing this is that each spatial location (i, j) in a channel sees a different image patch, and so is like an additional datapoint. \n",
    "\n",
    "Now we can apply CCA across the channels (remembering to transpose the flattened activations)"
   ]
  },
  {
   "cell_type": "code",
   "execution_count": 11,
   "metadata": {},
   "outputs": [
    {
     "data": {
      "text/plain": [
       "[<matplotlib.lines.Line2D at 0x7f84597a4e10>]"
      ]
     },
     "execution_count": 11,
     "metadata": {},
     "output_type": "execute_result"
    },
    {
     "data": {
      "image/png": "[encoded data removed]",
      "text/plain": [
       "<matplotlib.figure.Figure at 0x7f84597aed30>"
      ]
     },
     "metadata": {},
     "output_type": "display_data"
    }
   ],
   "source": [
    "f_results = cca_core.get_cca_similarity(f_acts1.T, f_acts2.T, epsilon=1e-10, verbose=False)\n",
    "plt.plot(f_results[\"cca_coef1\"])"
   ]
  },
  {
   "cell_type": "markdown",
   "metadata": {},
   "source": [
    " We can also do this after subsampling some of the datapoints to reduce computation overheads. The results are  very stable to this as the number of channels we have (64) is _significantly_ smaller than the number of datapoints: 1000 x 16 x16. "
   ]
  },
  {
   "cell_type": "code",
   "execution_count": 12,
   "metadata": {},
   "outputs": [
    {
     "data": {
      "text/plain": [
       "[<matplotlib.lines.Line2D at 0x7f84575d1668>]"
      ]
     },
     "execution_count": 12,
     "metadata": {},
     "output_type": "execute_result"
    },
    {
     "data": {
      "image/png": "[encoded data removed]",
      "text/plain": [
       "<matplotlib.figure.Figure at 0x7f845620b550>"
      ]
     },
     "metadata": {},
     "output_type": "display_data"
    }
   ],
   "source": [
    "f_results = cca_core.get_cca_similarity(f_acts1.T[:,::5], f_acts2.T[:,::5], epsilon=1e-10, verbose=False)\n",
    "plt.plot(f_results[\"cca_coef1\"])"
   ]
  },
  {
   "cell_type": "markdown",
   "metadata": {},
   "source": [
    "### Conv Layers with Different Spatial Dimensions"
   ]
  },
  {
   "cell_type": "markdown",
   "metadata": {},
   "source": [
    "Suppose our two conv layers have different spatial dimensions:"
   ]
  },
  {
   "cell_type": "code",
   "execution_count": 24,
   "metadata": {},
   "outputs": [
    {
     "name": "stdout",
     "output_type": "stream",
     "text": [
      "shape of first conv (10000, 16, 16, 64) shape of second conv (10000, 8, 8, 64)\n"
     ]
    }
   ],
   "source": [
    "with gzip.open(\"./model_activations/SVHN/model_1_lay04.p\", \"rb\") as f:\n",
    "    pool2 = pickle.load(f)\n",
    "    \n",
    "print(\"shape of first conv\", acts1.shape, \"shape of second conv\", pool2.shape)"
   ]
  },
  {
   "cell_type": "markdown",
   "metadata": {},
   "source": [
    "Here we want to compare conv2 in model 0 with the maxpool activations in model 1. We can't just turn the spatial dimensions into datapoints like before, because then the number of datapoints will be different for each layer. Remember, CCA can make comparisons across _different_ numbers of neurons (in our case different numbers of channels) but the data dimension has to be the same.\n",
    "\n",
    "There are a couple of other simple things we can do though."
   ]
  },
  {
   "cell_type": "markdown",
   "metadata": {},
   "source": [
    "#### Average Pool"
   ]
  },
  {
   "cell_type": "markdown",
   "metadata": {},
   "source": [
    "The simplest thing one can do (can also be used when conv layers have the same spatial dimensions) is to perform an average pool over spatial dimensions. This can often work relatively well:"
   ]
  },
  {
   "cell_type": "code",
   "execution_count": 29,
   "metadata": {},
   "outputs": [
    {
     "name": "stdout",
     "output_type": "stream",
     "text": [
      "shapes after average pool over spatial dimensions (10000, 64) (10000, 64)\n"
     ]
    },
    {
     "data": {
      "text/plain": [
       "[<matplotlib.lines.Line2D at 0x7f84573249e8>]"
      ]
     },
     "execution_count": 29,
     "metadata": {},
     "output_type": "execute_result"
    },
    {
     "data": {
      "image/png": "[encoded data removed]",
      "text/plain": [
       "<matplotlib.figure.Figure at 0x7f84575fbcf8>"
      ]
     },
     "metadata": {},
     "output_type": "display_data"
    }
   ],
   "source": [
    "avg_acts1 = np.mean(acts1, axis=(1,2))\n",
    "avg_pool2 = np.mean(pool2, axis=(1,2))\n",
    "\n",
    "print(\"shapes after average pool over spatial dimensions\", avg_acts1.shape, avg_pool2.shape)\n",
    "a_results = cca_core.get_cca_similarity(avg_acts1.T, avg_pool2.T, epsilon=1e-10, verbose=False)\n",
    "plt.plot(a_results[\"cca_coef1\"])"
   ]
  },
  {
   "cell_type": "markdown",
   "metadata": {},
   "source": [
    "#### Interpolate"
   ]
  },
  {
   "cell_type": "markdown",
   "metadata": {},
   "source": [
    "Another thing one can do is to interpolate the spatial dimensions of the smaller sized conv layer so that they match the large layer. There are many ways to do this, and the `interpolate` library in `scipy` provides access to many different methods."
   ]
  },
  {
   "cell_type": "code",
   "execution_count": 42,
   "metadata": {},
   "outputs": [
    {
     "name": "stdout",
     "output_type": "stream",
     "text": [
      "new shape (10000, 16, 16, 64)\n"
     ]
    }
   ],
   "source": [
    "from scipy import interpolate\n",
    "\n",
    "num_d, h, w, _ = acts1.shape\n",
    "num_c = pool2.shape[-1]\n",
    "pool2_interp = np.zeros((num_d, h, w, num_c))\n",
    "\n",
    "for d in range(num_d):\n",
    "    for c in range(num_c):\n",
    "        # form interpolation function\n",
    "        idxs1 = np.linspace(0, pool2.shape[1],\n",
    "                            pool2.shape[1],\n",
    "                            endpoint=False)\n",
    "        idxs2 = np.linspace(0, pool2.shape[2],\n",
    "                            pool2.shape[2],\n",
    "                            endpoint=False)\n",
    "        arr = pool2[d,:,:,c]\n",
    "        f_interp = interpolate.interp2d(idxs1, idxs2, arr)\n",
    "        \n",
    "        # creater larger arr\n",
    "        large_idxs1 = np.linspace(0, pool2.shape[1],\n",
    "                            acts1.shape[1],\n",
    "                            endpoint=False)\n",
    "        large_idxs2 = np.linspace(0, pool2.shape[2],\n",
    "                            acts1.shape[2],\n",
    "                            endpoint=False)\n",
    "        \n",
    "        pool2_interp[d, :, :, c] = f_interp(large_idxs1, large_idxs2)\n",
    "\n",
    "print(\"new shape\", pool2_interp.shape)"
   ]
  },
  {
   "cell_type": "markdown",
   "metadata": {},
   "source": [
    "For this example, we just used the default interpolation (linear) in the `interp2d` function. There are many different interpolations possible that would be interesting to explore.\n",
    "\n",
    "Now that our two layers have the same spatial shape, we can proceed as we did before"
   ]
  },
  {
   "cell_type": "code",
   "execution_count": 50,
   "metadata": {},
   "outputs": [
    {
     "data": {
      "text/plain": [
       "[<matplotlib.lines.Line2D at 0x7f844fb410f0>]"
      ]
     },
     "execution_count": 50,
     "metadata": {},
     "output_type": "execute_result"
    },
    {
     "data": {
      "image/png": "[encoded data removed]",
      "text/plain": [
       "<matplotlib.figure.Figure at 0x7f8450ce2fd0>"
      ]
     },
     "metadata": {},
     "output_type": "display_data"
    }
   ],
   "source": [
    "num_datapoints, h, w, channels = acts1.shape\n",
    "f_acts1 = acts1.reshape((num_datapoints*h*w, channels))\n",
    "\n",
    "num_datapoints, h, w, channels = pool2_interp.shape\n",
    "f_pool2 = pool2_interp.reshape((num_datapoints*h*w, channels))\n",
    "\n",
    "f_results = cca_core.get_cca_similarity(f_acts1.T[:,::5], f_pool2.T[:,::5], epsilon=1e-10, verbose=False)\n",
    "plt.plot(f_results[\"cca_coef1\"])\n"
   ]
  },
  {
   "cell_type": "markdown",
   "metadata": {},
   "source": [
    "### Summary\n",
    "In this tutorial, we learned about how to apply CCA to compare convolutional layers to each other. The main point is that for conv layers, we'd like to do comparisons across channels. There are a few options:\n",
    "1. Average pool over spatial locations, then compare channels. This works for same spatial sized and different spatial sized conv layers.\n",
    "2. Fold the spatial dimensions into the data dimension, and compare. This works for same spatial sized conv layers, and the intution behind it is that different spatial locations see different image patches.\n",
    "3. For different spatial sized conv layers, we can first perform an interpolation to make them the same size, and then compare with either of the two methods above."
   ]
  },
  {
   "cell_type": "code",
   "execution_count": null,
   "metadata": {},
   "outputs": [],
   "source": []
  }
 ],
 "metadata": {
  "kernelspec": {
   "display_name": "Python 3",
   "language": "python",
   "name": "python3"
  },
  "language_info": {
   "codemirror_mode": {
    "name": "ipython",
    "version": 3
   },
   "file_extension": ".py",
   "mimetype": "text/x-python",
   "name": "python",
   "nbconvert_exporter": "python",
   "pygments_lexer": "ipython3",
   "version": "3.5.2"
  }
 },
 "nbformat": 4,
 "nbformat_minor": 2
}
