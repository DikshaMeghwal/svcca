{
 "cells": [
  {
   "cell_type": "markdown",
   "metadata": {},
   "source": [
    "# Introduction"
   ]
  },
  {
   "cell_type": "markdown",
   "metadata": {},
   "source": [
    "### Summary: \n",
    "This notebook introduces (SV)CCA as a method to analyze representations in neural networks. We apply this to a network on MNIST, and discuss some important considerations when applying CCA.\n",
    "\n",
    "### Table of Contents:\n",
    "1. Motivation\n",
    "2. Canonical Correlation Analysis (CCA)\n",
    "3. Our Work\n",
    "4. Getting started with CCA with a Toy Example\n",
    "5. How many datapoints?\n",
    "6. Beyond Mean CCA Correlation Coefficients\n",
    "7. Determining CCA Similarity with an MNIST Example"
   ]
  },
  {
   "cell_type": "code",
   "execution_count": 1,
   "metadata": {},
   "outputs": [],
   "source": [
    "import os, sys\n",
    "from matplotlib import pyplot as plt\n",
    "%matplotlib inline\n",
    "import numpy as np\n",
    "import pickle\n",
    "import pandas\n",
    "import gzip\n",
    "\n",
    "sys.path.append(\"..\")\n",
    "import cca_core"
   ]
  },
  {
   "cell_type": "code",
   "execution_count": 2,
   "metadata": {},
   "outputs": [],
   "source": [
    "def _plot_helper(arr, xlabel, ylabel):\n",
    "    plt.plot(arr, lw=2.0)\n",
    "    plt.xlabel(xlabel)\n",
    "    plt.ylabel(ylabel)\n",
    "    plt.grid()"
   ]
  },
  {
   "cell_type": "markdown",
   "metadata": {},
   "source": [
    "### Motivation:\n",
    "Given a neural network, we often want to understand the properties of its latent representations: we might be interesting in seeing how different layers converge, comparing multiple networks to determine similarities, or even determining how sensitive different layers are to different classes.\n",
    "\n",
    "To do this, we first outline a simple formalism for thinking about neural network representations:"
   ]
  },
  {
   "attachments": {},
   "cell_type": "markdown",
   "metadata": {},
   "source": [
    "![cca_nn](nn_cca.png)"
   ]
  },
  {
   "cell_type": "markdown",
   "metadata": {},
   "source": [
    "#### Neurons as Activation Vectors, Layers as Subspaces\n",
    "Suppose we feed inputs x1,x2,x3 into a network. A _neuron_ in the network is going to output three scalar z1,z2,z3 for the three inputs. One simple way to represent what the neuron has learned is by creating an _activation vector_: stacking its output values over the inputs -- in this case the vector [z1,z2,z3]. More generally, we might feed in inputs x1,...,xm, which gives each neuron in the network an activation vector of the form [z1,....,zm].\n",
    "\n",
    "Layers in the network linearly combine their neurons, and so we have the simple formalism -- given a dataset X=[x1,...,xm]:\n",
    "1. Neuron representations are (activation) vectors (in R^m)\n",
    "2. Layer representations are subspaces spanned by their neurons\n",
    "\n",
    "### Canonical Correlation Analysis (CCA)\n",
    "With this formalism, we can apply powerful statistical methods, such as Canonical Correlation Analysis (CCA) to understand properties of deep neural networks. \n",
    "\n",
    "At a high level, CCA takes as input two sets of neurons A, B (typically layers) and finds linear combinations of the neurons that maximize the correlation between the two layers. Intuitively, it tries to measure whether the two layers are learning similar things, modulo any linear transform.\n",
    "\n",
    "This means that CCA is **invariant** to (invertible) linear transforms, an _essential_ property when comparing different neural networks to each other.\n",
    "\n",
    "Section 2 in our paper, [Insights on Representational Similarity](https://arxiv.org/abs/1806.05759) presents a simple mathematical overview of CCA. For more details, here are two nice surveys of CCA and related methods:\n",
    "1. https://arxiv.org/pdf/1711.02391.pdf\n",
    "2. http://www.diva-portal.org/smash/get/diva2:288565/FULLTEXT01.pdf\n",
    "\n",
    "For this tutorial, the main thing to note is that given two sets of neurons A, B, with n_a, n_b neurons respectively, CCA will output min(n_a, n_b) correlation coefficients in [0, 1] that tell us how similar the linear combinations are. This will be returned as `results[\"cca_coef1\"]` in the code below.\n"
   ]
  },
  {
   "cell_type": "markdown",
   "metadata": {},
   "source": [
    "### Our Work\n",
    "\n",
    "In our papers:\n",
    "* [SVCCA: Singular Vector Canonical Correlation Analysis for Deep Learning Dynamics and Interpretability](https://arxiv.org/abs/1706.05806)\n",
    "* [Insights on Representational Similarity in Neural Networks with Canonical Correlation.](https://arxiv.org/abs/1806.05759)\n",
    "\n",
    "we use variants of CCA to analyze properties of different kinds of neural networks (fully connected/convolutional/RNN) and discover some interesting conclusions:\n",
    "1. Bottom up learning dynamics: lower layers in neural networks converge first before higher layers. We can thus consecutively freeze layers through training to save computation and prevent overfitting\n",
    "2. CCA can be used to compare different neural networks successfully, uncovering latent similarity and even helping perform compression.\n",
    "3. Comparing generalizing networks (networks trained on the true task) and memorizing networks (networks trained on a random permutation of labels) shows that good generalization often results in more similiarity of the latent representations of neural networks.\n",
    "4. We can also see how sensitive latent layers are to different classes. On ImageNet, we find that there are easier (e.g. fire trucks) and harder classes (specific dog breeds) for the network\n",
    "\n",
    "Check out the papers for details and more results!"
   ]
  },
  {
   "cell_type": "markdown",
   "metadata": {},
   "source": [
    "### Getting started with CCA for Neural Networks with a Toy Example\n",
    "Now that we've discussed the motivation and the kinds of analysis one can do with CCA, let's work through some examples with the code!\n",
    "\n",
    "Let's first start with a toy example, where we will generate fake neuron activations as iid Gaussian samples. "
   ]
  },
  {
   "cell_type": "code",
   "execution_count": 3,
   "metadata": {},
   "outputs": [
    {
     "name": "stdout",
     "output_type": "stream",
     "text": [
      "adding eps to diagonal and taking inverse\n",
      "taking square root\n",
      "dot products...\n",
      "trying to take final svd\n",
      "computed everything!\n"
     ]
    }
   ],
   "source": [
    "# Toy Example of CCA in action\n",
    "\n",
    "# assume X_fake has 100 neurons and we have their activations on 1000 datapoints\n",
    "A_fake = np.random.randn(100, 2000)\n",
    "# Y_fake has 50 neurons with activations on the same 1000 datapoints\n",
    "# Note X and Y do *not* have to have the same number of neurons\n",
    "B_fake = np.random.randn(50, 2000)\n",
    "\n",
    "# computing CCA simliarty between X_fake, Y_fake\n",
    "# We expect similarity should be very low, because the fake activations are not correlated\n",
    "results = cca_core.get_cca_similarity(A_fake, B_fake, verbose=True)\n"
   ]
  },
  {
   "cell_type": "code",
   "execution_count": 4,
   "metadata": {},
   "outputs": [
    {
     "name": "stdout",
     "output_type": "stream",
     "text": [
      "returned information\n",
      "dict_keys(['sum', 'full_coef_x', 'neuron_means1', 'invsqrt_yy', 'x_idxs', 'full_invsqrt_yy', 'coef_y', 'neuron_means2', 'coef_x', 'full_invsqrt_xx', 'invsqrt_xx', 'mean', 'full_coef_y', 'cca_coef2', 'cca_coef1', 'y_idxs'])\n"
     ]
    }
   ],
   "source": [
    "print(\"returned information\")\n",
    "print(results.keys())"
   ]
  },
  {
   "cell_type": "markdown",
   "metadata": {},
   "source": [
    "The returned terms include *cca_coef1* and *cca_coef2*. These are the CCA correlation coeffients, which tell us how similar the representations of A, B are. \n",
    "\n",
    "There's redundency here -- the correlation coefficients measure how correlated the linear combinations for A, B are, and so *cca_coef1* = *cca_coef2*.\n",
    "\n",
    "Let's take a closer look:"
   ]
  },
  {
   "cell_type": "code",
   "execution_count": 5,
   "metadata": {},
   "outputs": [
    {
     "data": {
      "image/png": "[encoded data removed]",
      "text/plain": [
       "<matplotlib.figure.Figure at 0x7f1e54ebebe0>"
      ]
     },
     "metadata": {},
     "output_type": "display_data"
    }
   ],
   "source": [
    "# correlation coefficients\n",
    "_plot_helper(results[\"cca_coef1\"], \"CCA coef idx\", \"CCA coef value\")"
   ]
  },
  {
   "cell_type": "markdown",
   "metadata": {},
   "source": [
    "We see there are 50 = min(A_fake neurons, B_fake neurons) CCA correlation coefficients, in decreasing order (from most correlated to least correlated.)\n",
    "\n",
    "We'll return to this in more detail soon, but for now, if we want a single number to summarize how similar the representations of A_fake, B_fake are, we can e.g. take the mean of these coefficients:"
   ]
  },
  {
   "cell_type": "code",
   "execution_count": 6,
   "metadata": {},
   "outputs": [
    {
     "name": "stdout",
     "output_type": "stream",
     "text": [
      "Single number for summarizing similarity\n",
      "0.20908031456\n"
     ]
    }
   ],
   "source": [
    "print(\"Single number for summarizing similarity\")\n",
    "print(np.mean(results[\"cca_coef1\"]))"
   ]
  },
  {
   "cell_type": "markdown",
   "metadata": {},
   "source": [
    "This is a simple baseline we can compare other results to. As an example, let's see what the similarity looks like when we compare A to a scaled invertible transform of A. CCA is invariant to these, so we expect to see perfect CCA correlation."
   ]
  },
  {
   "cell_type": "code",
   "execution_count": 7,
   "metadata": {},
   "outputs": [
    {
     "name": "stdout",
     "output_type": "stream",
     "text": [
      "adding eps to diagonal and taking inverse\n",
      "taking square root\n",
      "dot products...\n",
      "trying to take final svd\n",
      "computed everything!\n"
     ]
    }
   ],
   "source": [
    "At_fake = np.dot(np.random.randn(100, 100), A_fake)\n",
    "\n",
    "results_t = cca_core.get_cca_similarity(A_fake, At_fake)"
   ]
  },
  {
   "cell_type": "code",
   "execution_count": 9,
   "metadata": {},
   "outputs": [
    {
     "name": "stdout",
     "output_type": "stream",
     "text": [
      "Single number for summarizing similarity\n",
      "0.999999999999\n"
     ]
    },
    {
     "data": {
      "image/png": "[encoded data removed]",
      "text/plain": [
       "<matplotlib.figure.Figure at 0x7f1e549da828>"
      ]
     },
     "metadata": {},
     "output_type": "display_data"
    }
   ],
   "source": [
    "plt.plot(results_t[\"cca_coef1\"])\n",
    "plt.ylim((0,1.1))\n",
    "print(\"Single number for summarizing similarity\")\n",
    "print(np.mean(results_t[\"cca_coef1\"]))"
   ]
  },
  {
   "cell_type": "markdown",
   "metadata": {},
   "source": [
    "This is indeed what we observe -- a good sanity check!\n",
    "\n",
    "### How many datapoints?\n",
    "In the toy example above, we had a 2000 dimensional (fake) activation vector for each neuron in A, B. With a neural network, this would mean we had 2000 datapoints that we used to get each neuron's activation vector. \n",
    "\n",
    "Is 2000 always the appropriate number of datapoints to use?\n",
    "\n",
    "In general, the we want there to be enough datapoints so that CCA doesn't pick up spurious correlations. For example, suppose we have only as many datapoints as neurons. Then CCA will likely find linear combinations of the neurons in A, B such that there is high correlation on this small set of datapoints, but this won't generalize to larger amounts of data.\n",
    "\n",
    "**The TL;DR** Ideally we have an order of magnitude more datapoints than neurons that we're applying CCA over e.g. 5x --10x the amount of data.\n",
    "\n",
    "Let's look at this in more detail: we'll compute CCA similarity in our toy case from before, but this time vary the number of datapoints.\n",
    "\n",
    "With enough datapoints, CCA computations should tell us that there is no meaningful similarity between A_fake, B_fake."
   ]
  },
  {
   "cell_type": "code",
   "execution_count": 10,
   "metadata": {},
   "outputs": [
    {
     "data": {
      "text/plain": [
       "<matplotlib.text.Text at 0x7f1e549675c0>"
      ]
     },
     "execution_count": 10,
     "metadata": {},
     "output_type": "execute_result"
    },
    {
     "data": {
      "image/png": "[encoded data removed]",
      "text/plain": [
       "<matplotlib.figure.Figure at 0x7f1e54ac75f8>"
      ]
     },
     "metadata": {},
     "output_type": "display_data"
    }
   ],
   "source": [
    "sresults = []\n",
    "num_datapoints = [101, 200, 500, 1000, 2000, 5000, 10000]\n",
    "for nd in num_datapoints:\n",
    "    A_fake = np.random.randn(100, nd)\n",
    "    B_fake = np.random.randn(100, nd)\n",
    "    \n",
    "    results = cca_core.get_cca_similarity(A_fake, B_fake, verbose=False)\n",
    "    sresults.append(np.mean(results[\"cca_coef1\"]))\n",
    "    \n",
    "plt.plot(num_datapoints, sresults, lw=2.0)\n",
    "plt.grid()\n",
    "plt.xlabel(\"Num Datapoints\")\n",
    "plt.ylabel(\"Mean CCA Correlation Coefficient\")\n",
    "    "
   ]
  },
  {
   "cell_type": "markdown",
   "metadata": {},
   "source": [
    "We see that CCA similarity goes down as the number of datapoints increases. This drop is particularly steep in the 100 to 500 datapoints range, though there's also a 0.1 drop in the 2000 to 10000 datapoints range.\n",
    "\n",
    "It's not always feasible to use enormous numbers of datapoints (for example, if there are memory constraints.) But two useful rules of thumb are:\n",
    "1. Pick the number of datapoints to be at least a few times larger than the number of neurons.\n",
    "2. Compute a baseline with your number of datapoints, where CCA correlation should be low, and analyze results relative to this."
   ]
  },
  {
   "cell_type": "markdown",
   "metadata": {},
   "source": [
    "### Beyond Mean CCA Correlation Coefficients: Cutoffs and Thresholds\n",
    "\n",
    "So far we've been using the mean CCA Correlation Coefficient as a single number summarizing the similarity between our two sets of activations A, B. \n",
    "\n",
    "But in neural network layers, the full dimensionality of the layer (the number of neurons it has) might not be used for the task at hand. So computing a mean over all CCA correlation coefficients likely gives a pessimistic value for how similar two networks are.\n",
    "\n",
    "In our work, we proposed two variants of CCA to help address this, [SVCCA](https://arxiv.org/abs/1706.05806) (preprocess neuron activation vectors with an SVD to remove low variance directions) and [PWCCA](https://arxiv.org/abs/1806.05759) (a projection weighted mean of CCA correlation coefficients.) \n",
    "\n",
    "Both of these methods are heuristics, and were designed with the idea that small variance directions in neural networks might not correspond to meaningful signal. However, this might not be applicable in some settings, e.g. with saturating non-linearities.\n",
    "\n",
    "This problem with determining a good cutoff for CCA coefficients is a long standing one. On page 11 of our [Insights](https://arxiv.org/abs/1806.05759) paper, we overview a hypothesis test, Bartlett's test, that has been used to determine CCA cutoffs.\n",
    "\n",
    "Another method is to plot the log of the CCA correlation coefficients, and if there is a change in convexity, use that as a threshold.\n",
    "\n",
    "Yet another simple method is to compute the mean CCA correlation coefficient over the first n CCA correlation coefficients, where the first n coefficients correspond to some threshold% of the mass of the CCA correlation coefficients: i.e. \n",
    "\n",
    "`np.sum(results[\"cca_coef1\"][:n])/np.sum(results[\"cca_coef1\"]) = threshold`\n",
    "\n",
    "The `get_cca_similarity()` function has an optional threshold argument that does this when computing the `results[\"mean\"]` value. By default, the threshold is set to 0.98.\n",
    "\n",
    "Below, we work through several of these methods on an MNIST Example."
   ]
  },
  {
   "cell_type": "markdown",
   "metadata": {},
   "source": [
    "### Determining CCA Similarity with an MNIST Example\n",
    "\n",
    "Let's look at applying CCA to a fully connected network trained on MNIST. The network architecture has three hidden layers of width 500, so looks like:\n",
    "\n",
    "784 (Input) --- 500 --- 500 --- 500 -- 10 (Output)\n",
    "\n",
    "In the model_activations/MNIST/ folder, we have saved activations from two networks with this architecture on two training runs on MNIST. For this tutorial, we've taken the activations over the 10000 test set examples."
   ]
  },
  {
   "cell_type": "code",
   "execution_count": 11,
   "metadata": {},
   "outputs": [
    {
     "name": "stdout",
     "output_type": "stream",
     "text": [
      "activation shapes (500, 10000) (500, 10000)\n"
     ]
    }
   ],
   "source": [
    "# Load up second hidden layer of MNIST networks and compare\n",
    "with open(\"./model_activations/MNIST/model_0_lay02.p\", \"rb\") as f:\n",
    "    acts1 = pickle.load(f)\n",
    "with open(\"./model_activations/MNIST/model_1_lay02.p\", \"rb\") as f:\n",
    "    acts2 = pickle.load(f)\n",
    "    \n",
    "print(\"activation shapes\", acts1.shape, acts2.shape)\n",
    "\n",
    "results = cca_core.get_cca_similarity(acts1, acts2, epsilon=1e-10, verbose=False)\n",
    "    "
   ]
  },
  {
   "cell_type": "markdown",
   "metadata": {},
   "source": [
    "Note that we've added a small value to `epsilon` here -- this is to ensure that the numpy svd routine converges correctly by removing neurons with very small activations and regularizing one of the computations with an identity matrix."
   ]
  },
  {
   "cell_type": "code",
   "execution_count": 12,
   "metadata": {},
   "outputs": [
    {
     "name": "stdout",
     "output_type": "stream",
     "text": [
      "Mean CCA similarity 0.406766710156\n"
     ]
    },
    {
     "data": {
      "image/png": "[encoded data removed]",
      "text/plain": [
       "<matplotlib.figure.Figure at 0x7f1e54970860>"
      ]
     },
     "metadata": {},
     "output_type": "display_data"
    }
   ],
   "source": [
    "_plot_helper(results[\"cca_coef1\"], \"CCA Coef idx\", \"CCA Coef value\")\n",
    "print(\"Mean CCA similarity\", np.mean(results[\"cca_coef1\"]))"
   ]
  },
  {
   "cell_type": "markdown",
   "metadata": {},
   "source": [
    "Just taking a mean similarity and looking at the plot seems to suggest that these two representations aren't that similar. But we have to be more careful here. Let's try doing an SVD over one of the set of activations to see how many large variance directions there are:"
   ]
  },
  {
   "cell_type": "code",
   "execution_count": 13,
   "metadata": {},
   "outputs": [
    {
     "name": "stdout",
     "output_type": "stream",
     "text": [
      "Fraction of variance explained by 20 singular vectors 0.507615\n"
     ]
    },
    {
     "data": {
      "image/png": "[encoded data removed]",
      "text/plain": [
       "<matplotlib.figure.Figure at 0x7f1e549eebe0>"
      ]
     },
     "metadata": {},
     "output_type": "display_data"
    }
   ],
   "source": [
    "_, s, v = np.linalg.svd(acts1 - np.mean(acts1, axis=1, keepdims=True), full_matrices=False)\n",
    "_plot_helper(s, \"singular value idx\", \"singular value\")\n",
    "plt.plot([20]*100, np.linspace(0, 2700, 100), linestyle=\"--\")\n",
    "print(\"Fraction of variance explained by 20 singular vectors\", np.sum(s[:20])/np.sum(s))"
   ]
  },
  {
   "cell_type": "markdown",
   "metadata": {},
   "source": [
    "Plotting the singular values shows that 20 singular values, i.e. 20 dimensions, are enough to explain more than 50% of the variance of the activations. So we probably don't want to take an average over all the neurons(=500) to measure CCA similarity. Let's see how different methods work here.\n",
    "\n",
    "First, we're going to make a baseline to compare with. In this example we'll use the simple baseline of comparing iid Gaussian variables with each other. Other baselines could be the similarity of neural networks at random initialization."
   ]
  },
  {
   "cell_type": "code",
   "execution_count": 14,
   "metadata": {},
   "outputs": [],
   "source": [
    "# creating a random baseline\n",
    "b1 = np.random.randn(*acts1.shape)\n",
    "b2 = np.random.randn(*acts2.shape)"
   ]
  },
  {
   "cell_type": "code",
   "execution_count": 15,
   "metadata": {},
   "outputs": [
    {
     "name": "stdout",
     "output_type": "stream",
     "text": [
      "Baseline Mean CCA similarity 0.191175700254\n"
     ]
    },
    {
     "data": {
      "image/png": "[encoded data removed]",
      "text/plain": [
       "<matplotlib.figure.Figure at 0x7f1e54979198>"
      ]
     },
     "metadata": {},
     "output_type": "display_data"
    }
   ],
   "source": [
    "baseline = cca_core.get_cca_similarity(b1, b2, epsilon=1e-10, verbose=False)\n",
    "_plot_helper(baseline[\"cca_coef1\"], \"CCA coef idx\", \"CCA coef value\")\n",
    "print(\"Baseline Mean CCA similarity\", np.mean(baseline[\"cca_coef1\"]))"
   ]
  },
  {
   "cell_type": "markdown",
   "metadata": {},
   "source": [
    "There's a clear difference between the baseline mean CCA similarity and the MNIST mean CCA similarity, but let's see if we can separate things further.\n",
    "\n",
    "##### 1. Averaging Top CCA Values"
   ]
  },
  {
   "cell_type": "code",
   "execution_count": 16,
   "metadata": {},
   "outputs": [
    {
     "name": "stdout",
     "output_type": "stream",
     "text": [
      "Results when averaging top CCA values\n",
      "Baseline 0.411481949518 and MNIST 0.957506517411\n"
     ]
    }
   ],
   "source": [
    "# comparing different results\n",
    "print(\"Results when averaging top CCA values\")\n",
    "print(\"Baseline\", np.mean(baseline[\"cca_coef1\"][:20]), \"and MNIST\", np.mean(results[\"cca_coef1\"][:20]))"
   ]
  },
  {
   "cell_type": "markdown",
   "metadata": {},
   "source": [
    "##### 2. Using SVCCA"
   ]
  },
  {
   "cell_type": "code",
   "execution_count": 18,
   "metadata": {},
   "outputs": [
    {
     "name": "stdout",
     "output_type": "stream",
     "text": [
      "Results using SVCCA keeping 20 dims\n",
      "Baseline 0.0375192727601 and MNIST 0.736275892889\n"
     ]
    },
    {
     "data": {
      "image/png": "[encoded data removed]",
      "text/plain": [
       "<matplotlib.figure.Figure at 0x7f1e54a61080>"
      ]
     },
     "metadata": {},
     "output_type": "display_data"
    }
   ],
   "source": [
    "print(\"Results using SVCCA keeping 20 dims\")\n",
    "cacts1 = acts1 - np.mean(acts1, axis=0, keepdims=True)\n",
    "cacts2 = acts2 - np.mean(acts2, axis=0, keepdims=True)\n",
    "\n",
    "U1, s1, V1 = np.linalg.svd(cacts1, full_matrices=False)\n",
    "U2, s2, V2 = np.linalg.svd(cacts2, full_matrices=False)\n",
    "\n",
    "svacts1 = np.dot(s1[:20]*np.eye(20), V1[:20])\n",
    "# can also compute as svacts1 = np.dot(U1.T[:20], cacts1)\n",
    "svacts2 = np.dot(s2[:20]*np.eye(20), V2[:20])\n",
    "# can also compute as svacts1 = np.dot(U2.T[:20], cacts2)\n",
    "\n",
    "svcca_results = cca_core.get_cca_similarity(svacts1, svacts2, epsilon=1e-10, verbose=False)\n",
    "\n",
    "cb1 = b1 - np.mean(b1, axis=0, keepdims=True)\n",
    "cb2 = b2 - np.mean(b2, axis=0, keepdims=True)\n",
    "\n",
    "Ub1, sb1, Vb1 = np.linalg.svd(cb1, full_matrices=False)\n",
    "Ub2, sb2, Vb2 = np.linalg.svd(cb2, full_matrices=False)\n",
    "\n",
    "svb1 = np.dot(sb1[:20]*np.eye(20), Vb1[:20])\n",
    "svb2 = np.dot(sb2[:20]*np.eye(20), Vb2[:20])\n",
    "\n",
    "svcca_baseline = cca_core.get_cca_similarity(svb1, svb2, epsilon=1e-10, verbose=False)\n",
    "print(\"Baseline\", np.mean(svcca_baseline[\"cca_coef1\"]), \"and MNIST\", np.mean(svcca_results[\"cca_coef1\"]))\n",
    "\n",
    "plt.plot(svcca_baseline[\"cca_coef1\"], lw=2.0, label=\"baseline\")\n",
    "plt.plot(svcca_results[\"cca_coef1\"], lw=2.0, label=\"MNIST\")\n",
    "plt.xlabel(\"Sorted CCA Correlation Coeff Idx\")\n",
    "plt.ylabel(\"CCA Correlation Coefficient Value\")\n",
    "plt.legend(loc=\"best\")\n",
    "plt.grid()\n"
   ]
  },
  {
   "cell_type": "markdown",
   "metadata": {},
   "source": [
    "##### 3. Using PWCCA"
   ]
  },
  {
   "cell_type": "code",
   "execution_count": 19,
   "metadata": {},
   "outputs": [
    {
     "name": "stdout",
     "output_type": "stream",
     "text": [
      "Results using PWCCA\n",
      "Baseline 0.192822920912 and MNIST 0.736317097933\n"
     ]
    }
   ],
   "source": [
    "import pwcca\n",
    "pwcca_mean, w, _ = pwcca.compute_pwcca(acts1, acts2, epsilon=1e-10)\n",
    "pwcca_baseline, wb, _ = pwcca.compute_pwcca(b1, b2, epsilon=1e-10)\n",
    "print(\"Results using PWCCA\")\n",
    "print(\"Baseline\", pwcca_baseline, \"and MNIST\", pwcca_mean)"
   ]
  },
  {
   "cell_type": "markdown",
   "metadata": {},
   "source": [
    "We see that all the methods (averaging top values, SVCCA and PWCCA) greater accentuate the differences in CCA similarity between the baseline and MNIST.\n",
    "\n",
    "SVCCA highlights the greatest difference in this setting, but the downside is that a threshold for the number of dimensions used has to be chosen, while PWCCA doesn't require this.\n",
    "\n",
    "Note that these methods are mostly heuristics, and there are many further open questions to explore here!"
   ]
  },
  {
   "cell_type": "markdown",
   "metadata": {},
   "source": [
    "### Summary\n",
    "In this tutorial, we've seen:\n",
    "1. A simple formalism for representations in deep neural networks (neurons as activation vectors.)\n",
    "2. How to use the `cca_core` functions to apply CCA to deep neural networks\n",
    "3. Determining the number of datapoints for CCA\n",
    "4. Looking at different ways to perform cutoffs and get a single similarity score.\n",
    "\n",
    "In the following tutorials, we'll look at CCA for convolutional layers, and methods related to CCA for model compression and ablation studies."
   ]
  }
 ],
 "metadata": {
  "kernelspec": {
   "display_name": "Python 3",
   "language": "python",
   "name": "python3"
  },
  "language_info": {
   "codemirror_mode": {
    "name": "ipython",
    "version": 3
   },
   "file_extension": ".py",
   "mimetype": "text/x-python",
   "name": "python",
   "nbconvert_exporter": "python",
   "pygments_lexer": "ipython3",
   "version": "3.5.2"
  }
 },
 "nbformat": 4,
 "nbformat_minor": 2
}
